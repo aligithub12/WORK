{
 "cells": [
  {
   "cell_type": "code",
   "execution_count": null,
   "id": "dbcb2c8b-4700-4d1b-aa76-4ab656724f0a",
   "metadata": {},
   "outputs": [],
   "source": [
    "#import packages\n",
    "import numpy as np # linear algebra\n",
    "import pandas as pd # data processing, CSV file I/O (e.g. pd.read_csv)\n",
    "\n"
   ]
  },
  {
   "cell_type": "code",
   "execution_count": null,
   "id": "1ada5992-f54f-4ead-8a6a-404945aecfca",
   "metadata": {},
   "outputs": [],
   "source": [
    "df = pd.read_csv(\"seeds.csv\")\n",
    "df.head()"
   ]
  },
  {
   "cell_type": "code",
   "execution_count": null,
   "id": "b46d1bf9-9c9c-4586-8feb-86aa443b4aed",
   "metadata": {},
   "outputs": [],
   "source": [
    "df.shape"
   ]
  },
  {
   "cell_type": "code",
   "execution_count": null,
   "id": "8191fb86-f3b9-4352-9e16-e68979eef631",
   "metadata": {},
   "outputs": [],
   "source": [
    "df.info()"
   ]
  },
  {
   "cell_type": "code",
   "execution_count": null,
   "id": "1e99dcd5-8538-48eb-801a-495a8c834127",
   "metadata": {},
   "outputs": [],
   "source": [
    "df.describe()"
   ]
  },
  {
   "cell_type": "code",
   "execution_count": null,
   "id": "ce8f07e0-0733-4df6-b9c5-9c5b50255f81",
   "metadata": {},
   "outputs": [],
   "source": [
    "df.isnull().sum()"
   ]
  },
  {
   "cell_type": "code",
   "execution_count": null,
   "id": "2699feeb-a522-4c70-a0ae-101453961379",
   "metadata": {},
   "outputs": [],
   "source": [
    "df.columns.values"
   ]
  },
  {
   "cell_type": "code",
   "execution_count": null,
   "id": "e33836da-ea1a-4126-be71-151e29957cac",
   "metadata": {},
   "outputs": [],
   "source": [
    "#Replace the numerical values in the Type column to 1- Kama, 2- Rosa and 3- Canadian.\n",
    "df['Type'].replace({1:'Kama',2:'Rosa',3:'Canadian'}, inplace = True)\n",
    "df['Type'].head()"
   ]
  },
  {
   "cell_type": "code",
   "execution_count": null,
   "id": "a5a1ad88-9cf0-44c2-ab23-205af186937f",
   "metadata": {},
   "outputs": [],
   "source": [
    "df.head(10)"
   ]
  },
  {
   "cell_type": "code",
   "execution_count": null,
   "id": "7b77927e-ac3e-40f6-afad-b4edff35943a",
   "metadata": {},
   "outputs": [],
   "source": [
    "a = df['Type'].value_counts(sort = 'True')\n",
    "a"
   ]
  },
  {
   "cell_type": "code",
   "execution_count": null,
   "id": "dffc413d-02f0-419a-a4a5-218f0076d46f",
   "metadata": {},
   "outputs": [],
   "source": [
    "# Pie chart for 3 types\n",
    "df['Type'].value_counts().plot(kind = 'pie',legend = 'right', \n",
    "                               title = 'Share of each kernel in the data',autopct='%1.0f%%',\n",
    "                              colors = ['Blue','lightblue','Grey'])"
   ]
  },
  {
   "cell_type": "code",
   "execution_count": null,
   "id": "bdbbdcac-6f02-4c93-b327-856c3e46baf0",
   "metadata": {},
   "outputs": [],
   "source": [
    "df['Perimeter'].groupby(df.Type).max().sort_values(ascending = False) # largest perimeter"
   ]
  },
  {
   "cell_type": "code",
   "execution_count": null,
   "id": "ec3ae4fc-d094-4f88-ab1d-8ac1bfe2a42b",
   "metadata": {},
   "outputs": [],
   "source": [
    "df.loc[df['Perimeter'] == 17.25] # which row has that largest values"
   ]
  },
  {
   "cell_type": "code",
   "execution_count": null,
   "id": "c33f02e8-b0a4-4a70-8065-dbea2b002adf",
   "metadata": {},
   "outputs": [],
   "source": [
    "df['Perimeter'].plot(kind = 'box')"
   ]
  },
  {
   "cell_type": "code",
   "execution_count": null,
   "id": "ed711896-bcbc-4044-b505-2acc0bb012a8",
   "metadata": {},
   "outputs": [],
   "source": [
    "area = df['Area'].groupby(df.Type).min() # min Area grouped by Type\n",
    "area"
   ]
  },
  {
   "cell_type": "code",
   "execution_count": null,
   "id": "e3940620-95d4-406f-9860-293ad87e9e99",
   "metadata": {},
   "outputs": [],
   "source": [
    "area.plot()"
   ]
  },
  {
   "cell_type": "code",
   "execution_count": null,
   "id": "54641097-64bd-42e5-aace-775b2fcf1d32",
   "metadata": {},
   "outputs": [],
   "source": [
    "# mean kernal length\n",
    "mean = df['Kernel.Length'].groupby(df.Type).mean()\n",
    "mean"
   ]
  },
  {
   "cell_type": "code",
   "execution_count": null,
   "id": "044485aa-b19a-428b-b48b-130b959b814e",
   "metadata": {},
   "outputs": [],
   "source": [
    "mean.plot()"
   ]
  },
  {
   "cell_type": "code",
   "execution_count": null,
   "id": "f243be0a-e3fa-4f84-a109-cd4970efd8b6",
   "metadata": {},
   "outputs": [],
   "source": [
    "mean.plot(kind = 'barh')"
   ]
  },
  {
   "cell_type": "code",
   "execution_count": null,
   "id": "aaadb261-aef3-4d4f-b4b5-0eea9e22bda9",
   "metadata": {},
   "outputs": [],
   "source": [
    "#used tranpose T to change rows with column\n",
    "width = df['Kernel.Width'].groupby(df.Type).describe().T"
   ]
  },
  {
   "cell_type": "code",
   "execution_count": null,
   "id": "261acf00-02f3-49e7-bfee-c138fa205bd6",
   "metadata": {},
   "outputs": [],
   "source": [
    "width"
   ]
  },
  {
   "cell_type": "code",
   "execution_count": null,
   "id": "ca63ee76-2f32-4ab3-a37c-691053547596",
   "metadata": {},
   "outputs": [],
   "source": [
    "width.drop(labels = ['count','std'], axis = 0, inplace = True )"
   ]
  },
  {
   "cell_type": "code",
   "execution_count": null,
   "id": "f818937b-ba47-4b64-98ac-cacaf6743a97",
   "metadata": {},
   "outputs": [],
   "source": [
    "width"
   ]
  },
  {
   "cell_type": "code",
   "execution_count": null,
   "id": "02c2ce7a-8898-43d4-a60f-a8393bac068f",
   "metadata": {},
   "outputs": [],
   "source": [
    "width.plot(kind = 'barh')"
   ]
  },
  {
   "cell_type": "code",
   "execution_count": null,
   "id": "2e531d99-35da-45c1-93da-5fb383be8ef3",
   "metadata": {},
   "outputs": [],
   "source": [
    "# this was all about analysising a dataset"
   ]
  }
 ],
 "metadata": {
  "kernelspec": {
   "display_name": "Python 3 (ipykernel)",
   "language": "python",
   "name": "python3"
  },
  "language_info": {
   "codemirror_mode": {
    "name": "ipython",
    "version": 3
   },
   "file_extension": ".py",
   "mimetype": "text/x-python",
   "name": "python",
   "nbconvert_exporter": "python",
   "pygments_lexer": "ipython3",
   "version": "3.10.12"
  }
 },
 "nbformat": 4,
 "nbformat_minor": 5
}

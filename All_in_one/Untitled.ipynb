{
 "cells": [
  {
   "cell_type": "code",
   "execution_count": null,
   "id": "41a40ed2-1638-4834-9c68-377bcad66232",
   "metadata": {},
   "outputs": [],
   "source": [
    "import pandas as pd\n",
    "import sys\n"
   ]
  },
  {
   "cell_type": "code",
   "execution_count": null,
   "id": "50e7294c-9d6a-4309-924e-969eea58d082",
   "metadata": {},
   "outputs": [],
   "source": [
    "df = pd.read_csv(\"FuelConsumption.csv\")"
   ]
  },
  {
   "cell_type": "code",
   "execution_count": null,
   "id": "f250176d-de57-4745-b828-a5ba0eae044c",
   "metadata": {},
   "outputs": [],
   "source": [
    "df.head()"
   ]
  },
  {
   "cell_type": "code",
   "execution_count": null,
   "id": "9c4054b9-ffe6-4408-9d5b-54423c6351f7",
   "metadata": {},
   "outputs": [],
   "source": [
    "df.info()"
   ]
  },
  {
   "cell_type": "code",
   "execution_count": null,
   "id": "7094bac6-c2a4-4a17-b9e2-4665eec43e2c",
   "metadata": {},
   "outputs": [],
   "source": [
    "df.describe()"
   ]
  },
  {
   "cell_type": "code",
   "execution_count": null,
   "id": "dc4d2215-aef7-4472-949e-f044eb83a18e",
   "metadata": {},
   "outputs": [],
   "source": [
    "df[[\"MODEL\"]].describe()"
   ]
  },
  {
   "cell_type": "code",
   "execution_count": null,
   "id": "089fb870-cb50-4642-8032-e2ca37f52d58",
   "metadata": {},
   "outputs": [],
   "source": [
    "df.columns"
   ]
  },
  {
   "cell_type": "code",
   "execution_count": null,
   "id": "583b794e-c819-4e05-94e8-938c1fbdd288",
   "metadata": {},
   "outputs": [],
   "source": [
    "df.select_dtypes('object')"
   ]
  },
  {
   "cell_type": "code",
   "execution_count": null,
   "id": "ffa68853-1d37-47b5-b1de-995c11f6ef7a",
   "metadata": {},
   "outputs": [],
   "source": [
    "df"
   ]
  },
  {
   "cell_type": "code",
   "execution_count": null,
   "id": "321f044e-ffdb-4ef0-b59e-f4bb67de60ac",
   "metadata": {},
   "outputs": [],
   "source": [
    "df.iloc[:, [1,5]]"
   ]
  },
  {
   "cell_type": "code",
   "execution_count": null,
   "id": "2df699e5-cb6b-4cac-b4e8-ad9bf7725977",
   "metadata": {},
   "outputs": [],
   "source": [
    "df.query('(MODEL == \"ACURA\") or (MODEL == \"ILX\") ')"
   ]
  },
  {
   "cell_type": "code",
   "execution_count": null,
   "id": "a3448605-2a71-4a07-a413-240a8e83eace",
   "metadata": {},
   "outputs": [],
   "source": [
    "df.select_dtypes('int')"
   ]
  },
  {
   "cell_type": "code",
   "execution_count": null,
   "id": "a9e55891-ca09-4850-b7dc-b417360f046a",
   "metadata": {},
   "outputs": [],
   "source": [
    "df[['MODELYEAR','CYLINDERS','FUELCONSUMPTION_COMB_MPG','CO2EMISSIONS']].agg(['min','max','mean'])"
   ]
  },
  {
   "cell_type": "code",
   "execution_count": null,
   "id": "497832f7-f391-42aa-bf32-21f7033eaea1",
   "metadata": {},
   "outputs": [],
   "source": [
    "df['MODEL'].nunique()"
   ]
  },
  {
   "cell_type": "code",
   "execution_count": null,
   "id": "cf192de4-720f-4931-8880-007a365339a5",
   "metadata": {},
   "outputs": [],
   "source": [
    "df['MODEL'].value_counts(normalize=True).reset_index()\n",
    "#it became a df due to reset_index"
   ]
  },
  {
   "cell_type": "code",
   "execution_count": null,
   "id": "f337caa9-176b-4d53-ab0d-55ce8347e2f2",
   "metadata": {},
   "outputs": [],
   "source": [
    "df2 = df.groupby('ENGINESIZE')[['CYLINDERS']].mean()\n",
    "df2"
   ]
  },
  {
   "cell_type": "code",
   "execution_count": null,
   "id": "f50da507-ad64-4887-9322-ad1d20f0c3f9",
   "metadata": {},
   "outputs": [],
   "source": [
    "df1 = df.groupby('ENGINESIZE')[['CYLINDERS','CO2EMISSIONS']].agg(['mean','max','min'])\n",
    "df1"
   ]
  },
  {
   "cell_type": "code",
   "execution_count": null,
   "id": "a029e06f-8463-4c64-9342-367e9d718854",
   "metadata": {},
   "outputs": [],
   "source": [
    "# df.sort_values('CO2EMISSIONS', ascending=False).reset_index(drop=True)"
   ]
  },
  {
   "cell_type": "code",
   "execution_count": null,
   "id": "8dd81144-1e28-4c8c-b3e6-7cdb2bc18204",
   "metadata": {},
   "outputs": [],
   "source": [
    "pd.concat([df2,df1], axis=0)"
   ]
  },
  {
   "cell_type": "code",
   "execution_count": null,
   "id": "b070e37b-6fa8-4457-b188-c25be7b81fb1",
   "metadata": {},
   "outputs": [],
   "source": []
  }
 ],
 "metadata": {
  "kernelspec": {
   "display_name": "Python 3 (ipykernel)",
   "language": "python",
   "name": "python3"
  },
  "language_info": {
   "codemirror_mode": {
    "name": "ipython",
    "version": 3
   },
   "file_extension": ".py",
   "mimetype": "text/x-python",
   "name": "python",
   "nbconvert_exporter": "python",
   "pygments_lexer": "ipython3",
   "version": "3.10.12"
  }
 },
 "nbformat": 4,
 "nbformat_minor": 5
}
